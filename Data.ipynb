{
 "cells": [
  {
   "cell_type": "markdown",
   "metadata": {},
   "source": [
    "# Data"
   ]
  },
  {
   "cell_type": "markdown",
   "metadata": {},
   "source": [
    "In this project, we will be using primarily the foursquare location dataset.<br>\n",
    "Below is an example of the data that we will use."
   ]
  },
  {
   "cell_type": "code",
   "execution_count": 68,
   "metadata": {},
   "outputs": [],
   "source": [
    "# @hidden_cell\n",
    "CLIENT_ID = 'TFBQ3TCNGGG12CQDSF0LJSXUVGADSDLUEVEDRXEUW0P21W0F' # your Foursquare ID\n",
    "CLIENT_SECRET = '4AJRYELS00FWGQFH20DYLZ4VV2NGHK3JFZZUFS13A1IAKB0R' # your Foursquare Secret\n",
    "VERSION = '20180628' # Foursquare API version"
   ]
  },
  {
   "cell_type": "code",
   "execution_count": 80,
   "metadata": {},
   "outputs": [],
   "source": [
    "import json, requests, pandas as pd\n",
    "url = 'https://api.foursquare.com/v2/venues/explore'\n",
    "\n",
    "params = dict(\n",
    "  client_id=CLIENT_ID,\n",
    "  client_secret=CLIENT_SECRET,\n",
    "  v=VERSION,\n",
    "  ll='25.1054,121.597366',\n",
    "  query='coffee',\n",
    "  limit=5\n",
    ")\n",
    "resp = requests.get(url=url, params=params)\n",
    "data = json.loads(resp.text)\n",
    "#print(data)\n",
    "results=data['response']['groups'][0]['items']\n",
    "ids=[]\n",
    "for i in results:\n",
    "    #print(i['venue']['id'])\n",
    "    ids.append(i['venue']['id'])"
   ]
  },
  {
   "cell_type": "code",
   "execution_count": 82,
   "metadata": {},
   "outputs": [
    {
     "data": {
      "text/html": [
       "<div>\n",
       "<style scoped>\n",
       "    .dataframe tbody tr th:only-of-type {\n",
       "        vertical-align: middle;\n",
       "    }\n",
       "\n",
       "    .dataframe tbody tr th {\n",
       "        vertical-align: top;\n",
       "    }\n",
       "\n",
       "    .dataframe thead th {\n",
       "        text-align: right;\n",
       "    }\n",
       "</style>\n",
       "<table border=\"1\" class=\"dataframe\">\n",
       "  <thead>\n",
       "    <tr style=\"text-align: right;\">\n",
       "      <th></th>\n",
       "      <th>Name</th>\n",
       "      <th>Likes</th>\n",
       "      <th>rating</th>\n",
       "      <th>latitude</th>\n",
       "      <th>longitude</th>\n",
       "    </tr>\n",
       "  </thead>\n",
       "  <tbody>\n",
       "    <tr>\n",
       "      <th>0</th>\n",
       "      <td>Antipodean Coffee</td>\n",
       "      <td>18</td>\n",
       "      <td>7.6</td>\n",
       "      <td>25.082826</td>\n",
       "      <td>121.577822</td>\n",
       "    </tr>\n",
       "    <tr>\n",
       "      <th>1</th>\n",
       "      <td>路易莎咖啡 Louisa Coffee</td>\n",
       "      <td>6</td>\n",
       "      <td>7.8</td>\n",
       "      <td>25.073757</td>\n",
       "      <td>121.578970</td>\n",
       "    </tr>\n",
       "    <tr>\n",
       "      <th>2</th>\n",
       "      <td>LOUISA COFFEE (路易．莎咖啡（內湖成功直營店）)</td>\n",
       "      <td>6</td>\n",
       "      <td>7.0</td>\n",
       "      <td>25.082414</td>\n",
       "      <td>121.592681</td>\n",
       "    </tr>\n",
       "    <tr>\n",
       "      <th>3</th>\n",
       "      <td>星巴克 Starbucks</td>\n",
       "      <td>14</td>\n",
       "      <td>6.9</td>\n",
       "      <td>25.083262</td>\n",
       "      <td>121.593771</td>\n",
       "    </tr>\n",
       "    <tr>\n",
       "      <th>4</th>\n",
       "      <td>星巴克 STARBUCKS（洲子門市）</td>\n",
       "      <td>12</td>\n",
       "      <td>7.2</td>\n",
       "      <td>25.079048</td>\n",
       "      <td>121.573487</td>\n",
       "    </tr>\n",
       "  </tbody>\n",
       "</table>\n",
       "</div>"
      ],
      "text/plain": [
       "                              Name  Likes  rating   latitude   longitude\n",
       "0                Antipodean Coffee     18     7.6  25.082826  121.577822\n",
       "1              路易莎咖啡 Louisa Coffee      6     7.8  25.073757  121.578970\n",
       "2  LOUISA COFFEE (路易．莎咖啡（內湖成功直營店）)      6     7.0  25.082414  121.592681\n",
       "3                    星巴克 Starbucks     14     6.9  25.083262  121.593771\n",
       "4              星巴克 STARBUCKS（洲子門市）     12     7.2  25.079048  121.573487"
      ]
     },
     "execution_count": 82,
     "metadata": {},
     "output_type": "execute_result"
    }
   ],
   "source": [
    "info=[]\n",
    "for VENUE_ID in ids:\n",
    "    #VENUE_ID='52fefe3f11d2a6f087c20989'\n",
    "    url = 'https://api.foursquare.com/v2/venues/{}?&client_id={}&client_secret={}&v={}'.format(\n",
    "        VENUE_ID,        \n",
    "        CLIENT_ID, \n",
    "                CLIENT_SECRET, \n",
    "                VERSION\n",
    "    )\n",
    "    results = requests.get(url).json()['response']['venue']\n",
    "    #print(results)\n",
    "    info.append([results['name'],results['likes']['count'],results['rating'],results['location']['lat'],results['location']['lng']])\n",
    "df=pd.DataFrame(info)\n",
    "df.columns=['Name','Likes','rating','latitude','longitude']\n",
    "#print(results)\n",
    "df"
   ]
  },
  {
   "cell_type": "code",
   "execution_count": null,
   "metadata": {},
   "outputs": [],
   "source": []
  }
 ],
 "metadata": {
  "kernelspec": {
   "display_name": "Python 3 (Spyder)",
   "language": "python3",
   "name": "python3"
  },
  "language_info": {
   "codemirror_mode": {
    "name": "ipython",
    "version": 3
   },
   "file_extension": ".py",
   "mimetype": "text/x-python",
   "name": "python",
   "nbconvert_exporter": "python",
   "pygments_lexer": "ipython3",
   "version": "3.7.3"
  }
 },
 "nbformat": 4,
 "nbformat_minor": 2
}
